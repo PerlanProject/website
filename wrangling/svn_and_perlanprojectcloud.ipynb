{
 "cells": [
  {
   "cell_type": "markdown",
   "id": "contemporary-accused",
   "metadata": {},
   "source": [
    "# Wrangling Files from Controlled.SVN and perlanproject.cloud/data\n",
    "When we started, there were some files we wanted in Morgan's SVN repo and still others in perlanproject.cloud/data.  I wrote some code to get the dirs as dictionaries and map between them for any given flight number.  Then I used that data to copy the files we wanted and renamed them for the new site in a consistent manner.\n",
    "\n",
    "In ./flight_files_to_csv.ipynb we populate the `data/flights.csv` file. That file is then used in the DB import page(s) in the Perlan theme to create Pods CPTs of type 'flight', using the CSV for all the metadata, e.g., max_altitude_feet, etc."
   ]
  },
  {
   "cell_type": "code",
   "execution_count": 1,
   "id": "japanese-treasury",
   "metadata": {},
   "outputs": [],
   "source": [
    "import os\n",
    "import pandas as pd\n",
    "import path_utils as pu"
   ]
  },
  {
   "cell_type": "code",
   "execution_count": 2,
   "id": "handled-compiler",
   "metadata": {},
   "outputs": [],
   "source": [
    "root = \"/Users/jdm/workbench/Perlan\" # YMMV\n",
    "os.chdir(root)"
   ]
  },
  {
   "cell_type": "code",
   "execution_count": 3,
   "id": "amateur-thinking",
   "metadata": {},
   "outputs": [
    {
     "name": "stdout",
     "output_type": "stream",
     "text": [
      "/Users/jdm/workbench/Perlan\n"
     ]
    }
   ],
   "source": [
    "!pwd"
   ]
  },
  {
   "cell_type": "code",
   "execution_count": 4,
   "id": "square-brown",
   "metadata": {},
   "outputs": [
    {
     "name": "stdout",
     "output_type": "stream",
     "text": [
      "\u001b[34mControlled.svn\u001b[m\u001b[m                    \u001b[34mdata.perlanproject.cloud\u001b[m\u001b[m\n",
      "\u001b[34mFlt63 Air Data Probe\u001b[m\u001b[m              \u001b[34mdata_convert\u001b[m\u001b[m\n",
      "Perlan Encore Fellowship          \u001b[34mdata_website\u001b[m\u001b[m\n",
      "\u001b[34mPerlanProject-2020-07-07T19-16-38\u001b[m\u001b[m \u001b[34mdata_website.drupaled.broken\u001b[m\u001b[m\n",
      "\u001b[34mScience.git\u001b[m\u001b[m                       \u001b[34mperlanproject.org\u001b[m\u001b[m\n",
      "\u001b[34massets\u001b[m\u001b[m                            \u001b[34mpods\u001b[m\u001b[m\n",
      "\u001b[34mclippings\u001b[m\u001b[m                         \u001b[34mpods.old\u001b[m\u001b[m\n",
      "\u001b[34mdata\u001b[m\u001b[m                              \u001b[34mtmp\u001b[m\u001b[m\n",
      "data website plan.ooutline        wp-config.php.save\n"
     ]
    }
   ],
   "source": [
    "!ls"
   ]
  },
  {
   "cell_type": "markdown",
   "id": "gentle-fight",
   "metadata": {},
   "source": [
    "# Copy files from SVN "
   ]
  },
  {
   "cell_type": "code",
   "execution_count": 6,
   "id": "charming-field",
   "metadata": {},
   "outputs": [],
   "source": [
    "import path_utils as pu\n",
    "\n",
    "svn_flights = pu.get_svn_flight_dirs(pu.svn_root)\n",
    "\n",
    "def reverse_dict(dic):\n",
    "    return {dic[key]:key for key in dic}\n",
    "\n",
    "svn_flights_reverse = reverse_dict(svn_flights)"
   ]
  },
  {
   "cell_type": "code",
   "execution_count": 7,
   "id": "developmental-decrease",
   "metadata": {},
   "outputs": [
    {
     "data": {
      "text/plain": [
       "['Flt53 10 Sept 2018/Screenshots/Perlan2.kml',\n",
       " 'Flt33 03 August 2017/Perlan2.kml',\n",
       " 'Gnd Hatch Test 9 Aug 2018/Perlan2.kml',\n",
       " 'Flt22 Sept 18/Flight22.kml',\n",
       " 'Flt21 13 Sept 2016/Flight21.kml',\n",
       " 'Flt39 9 Sept 2017/Perlan2.kml',\n",
       " 'Flt25 25 Sept 2016/Flight25.kml',\n",
       " 'Flt54 12 Sep 2018/Flt54.kml',\n",
       " 'Flt32 31 July 2017/Perlan2.kml',\n",
       " 'Flt45 26 May 2018/Perlan2.kml',\n",
       " 'Flt36 24 Aug 2017/Perlan2.kml',\n",
       " 'Flt47 13 Aug 2018/Perlan2.kml',\n",
       " 'Flt63 11 Sept 2019/Flt63 Telemetry/Perlan2.kml',\n",
       " 'Flt65 17 Sept 2019/Flt65 Telemetry/Perlan2.kml',\n",
       " 'Flt40 11 Sept 2017/Perlan2.kml',\n",
       " 'Flt52 2 Sep 2018/Flt52.kml',\n",
       " 'Flt37 30 Aug 2017/Perlan2.kml',\n",
       " 'Flt64 14 Sept 2019/Flt64 Telemetry/Perlan2.kml',\n",
       " 'Flt50 26 Aug 2018/Perlan2.kml',\n",
       " 'Flt23 21 Sept 2016/Flight23.kml',\n",
       " 'Flt35 19 Aug 2017/Perlan2.kml',\n",
       " 'Flt62 6 Sept 2019/Flt62 Telemetry/Perlan2.kml',\n",
       " 'Flt31 24 July 2017/Perlan2.kml',\n",
       " 'Flt49 20 Aug 2018/Perlan2.kml',\n",
       " 'Flt61 31 Aug 2019/Flt61 Groundstation/Perlan2.kml',\n",
       " 'Flt26 25 Sept 2016/Flight26.kml',\n",
       " 'Flt38 3 Sept 2017/Perlan2.kml',\n",
       " 'Flt48 17 Aug 2018/Ground Station Logs/Perlan2.kml',\n",
       " 'Flt51 28 Aug 2018/Perlan2.kml',\n",
       " 'Flt59 20 Aug 2019/Flt59 Telemetry/Perlan2.kml']"
      ]
     },
     "execution_count": 7,
     "metadata": {},
     "output_type": "execute_result"
    }
   ],
   "source": [
    "kmls = pu.get_children(pu.svn_root, kind=\"files\", names_ending_with=\".kml\", depth=4)\n",
    "kmls"
   ]
  },
  {
   "cell_type": "code",
   "execution_count": 8,
   "id": "bigger-logan",
   "metadata": {},
   "outputs": [
    {
     "data": {
      "text/plain": [
       "{'0053': 'Flt53 10 Sept 2018',\n",
       " '0033': 'Flt33 03 August 2017',\n",
       " '0022': 'Flt22 Sept 18',\n",
       " '0021': 'Flt21 13 Sept 2016',\n",
       " '0042': 'Flt42',\n",
       " '0039': 'Flt39 9 Sept 2017',\n",
       " '0024': 'Flt24 23 Sept 2016',\n",
       " '0025': 'Flt25 25 Sept 2016',\n",
       " '0054': 'Flt54 12 Sep 2018',\n",
       " '0030': 'Flt30 18 July 2017',\n",
       " '0032': 'Flt32 31 July 2017',\n",
       " '0041': 'Flt41 06 May 2018',\n",
       " '0029': 'Flt29 12 May 2017',\n",
       " '0045': 'Flt45 26 May 2018',\n",
       " '0036': 'Flt36 24 Aug 2017',\n",
       " '0047': 'Flt47 Aug 14 2018',\n",
       " '0034': 'Flt34 15 Aug 2017',\n",
       " '0058': 'Flt58 3 Jun 2019',\n",
       " '0063': 'Flt63 11 Sept 2019',\n",
       " '0065': 'Flt65 17 Sept 2019',\n",
       " '0028': 'Flt28 22 April 2017',\n",
       " '0040': 'Flt40 11 Sept 2017',\n",
       " '0052': 'Flt52 2 Sep 2018',\n",
       " '0037': 'Flt37 30 Aug 2017',\n",
       " '0027': 'Flt27 11 April 2017',\n",
       " '0064': 'Flt64 14 Sept 2019',\n",
       " '0057': 'Flt57 1 Jun 2019',\n",
       " '0060': 'Flt60 28 Aug 2019',\n",
       " '0050': 'Flt50 26 Aug 2018',\n",
       " '0023': 'Flt23 21 Sept 2016',\n",
       " '0035': 'Flt35 19 Aug 2017',\n",
       " '0055': 'Flt55 28 May 2019',\n",
       " '0062': 'Flt62 6 Sept 2019',\n",
       " '0031': 'Flt31 24 July 2017',\n",
       " '0020': 'Flt20 11 Sept',\n",
       " '0056': 'Flt56 29 May 2019',\n",
       " '0049': 'Flt49 20 Aug 2018',\n",
       " '0061': 'Flt61 31 Aug 2019',\n",
       " '0026': 'Flt26 25 Sept 2016',\n",
       " '0038': 'Flt38 3 Sept 2017',\n",
       " '0048': 'Flt48 17 Aug 2018',\n",
       " '0019': 'Flt19 9 Sept 2016',\n",
       " '0051': 'Flt51 28 Aug 2018',\n",
       " '0059': 'Flt59 20 Aug 2019'}"
      ]
     },
     "execution_count": 8,
     "metadata": {},
     "output_type": "execute_result"
    }
   ],
   "source": [
    "svn_flights = pu.get_svn_flight_dirs(pu.svn_root)\n",
    "svn_flights"
   ]
  },
  {
   "cell_type": "code",
   "execution_count": null,
   "id": "temporal-european",
   "metadata": {},
   "outputs": [],
   "source": []
  }
 ],
 "metadata": {
  "kernelspec": {
   "display_name": "Python 3",
   "language": "python",
   "name": "python3"
  },
  "language_info": {
   "codemirror_mode": {
    "name": "ipython",
    "version": 3
   },
   "file_extension": ".py",
   "mimetype": "text/x-python",
   "name": "python",
   "nbconvert_exporter": "python",
   "pygments_lexer": "ipython3",
   "version": "3.8.8"
  }
 },
 "nbformat": 4,
 "nbformat_minor": 5
}

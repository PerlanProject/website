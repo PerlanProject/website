{
 "cells": [
  {
   "cell_type": "markdown",
   "id": "comfortable-payroll",
   "metadata": {},
   "source": [
    "# Flight Data Files to CSV\n",
    "Here we create the CSV file of per-flight data to import into our WordPress website.  By creating flights (technically, WordPress posts of `post_type` = `flight`) from CSV, I've been able to iterate dozens of times, trying different datatypes, etc.  New fields can be easily added, again, without having to enter data into forms by hand.  **The saga of WordPress and datatypes is far too long to describe here, but is very imporant you understand them...**\n",
    "\n",
    "Per-flight metadata (flight date, altitude, pilots, etc.) came mostly from Jackie's spreadsheet, while data generated and collected during each flight was gathered from several different ad-hoc locations, including Morgan's SVN repo and https://perlanproject.cloud/data, and organized into one directory per flight, with standardized filenames.  For example, the KML file for Flight 0065 is named `/data/Flights/0069/Flt0069.kml`.  \n",
    "\n",
    "NOTES:\n",
    "\n",
    "- The web hostname must be prepended to make a full-path URI, e.g., `http://localhost/data/Flights/0069/Flt0069.kml`.  For development, hostname is `http://localhost`.  When the site is deployed, the hostname is changed to reflect this, either manually (if you're a stud) or via WordPress plugin.  Using our example, `https://perlanproject.org/data/Flights/0069/Flt0069.kml`\n",
    "\n",
    "- The `data` directory lives at the top level (root) of the website, or more precisely, is *accessible* from the root; it is actually symlinked so it can be backed up in a Git repo using Large File Support (LFS), as there are some big honkin' files.\n",
    "\n",
    "- We actually read *and* write `flights.csv` and then *write* `flights-toolset.csv`, the latter being the file we import into WordPress **using the Perlan plugin** to create Flights (`post_type == 'flight'`) as implemented by the Toolset plugin.  Toolset is a paid (tho inexpensive) WordPress plugin that implements the custom data types, custom fields, custom post types, etc. we need.  WordPress itself is **very** bare-bones, as it was designed as a blogging platform, not a Content Management System (CMS).  At least that the excuse they give.  IMHO, WordPress would be a **lot** more stable, more powerful, more usable, and all-around have much better karma, had the WordPress developers decided to add all these missing pieces directly into the platform at some point, rather than let the hodge-podge we have today happen.  But nooooooooo....\n",
    "\n",
    "- We use the Perlan plugin for importing CSV because the free one recommended by Toolset, \"CSV Importer\" has not been maintained and was buggy.  The paid CSV importers were expensive ($300) and did more than we needed.  Besides, I had a CSV import utility written into the Perlan plugin, anyway.  The code is simple, and gives us a window into the process, too, esp. when run under the XDebug debugger via Eclipse.\n",
    "\n",
    "- Since we're concerned with CSV files, which are just text, we must ensure that we use empty strings (\"\") and **not** Python None or NaNs for any columns with empty values."
   ]
  },
  {
   "cell_type": "code",
   "execution_count": 1,
   "id": "otherwise-thumbnail",
   "metadata": {},
   "outputs": [],
   "source": [
    "import os\n",
    "from datetime import datetime as dt\n",
    "import numpy as np\n",
    "import pandas as pd\n",
    "import path_utils as pu"
   ]
  },
  {
   "cell_type": "code",
   "execution_count": 2,
   "id": "solid-lobby",
   "metadata": {},
   "outputs": [],
   "source": [
    "root = \"/Users/jdm/workbench/Perlan\" # YMMV\n",
    "os.chdir(root)"
   ]
  },
  {
   "cell_type": "code",
   "execution_count": 3,
   "id": "straight-riverside",
   "metadata": {},
   "outputs": [
    {
     "name": "stdout",
     "output_type": "stream",
     "text": [
      "/Users/jdm/workbench/Perlan\n"
     ]
    }
   ],
   "source": [
    "!pwd"
   ]
  },
  {
   "cell_type": "code",
   "execution_count": 4,
   "id": "spread-focus",
   "metadata": {},
   "outputs": [
    {
     "name": "stdout",
     "output_type": "stream",
     "text": [
      "\u001b[34mControlled.svn\u001b[m\u001b[m                    data_website.202105026_1010.zip\n",
      "Perlan Encore Fellowship          \u001b[34mdata_website.drupaled.broken\u001b[m\u001b[m\n",
      "\u001b[34mPerlanProject-2020-07-07T19-16-38\u001b[m\u001b[m \u001b[34mdata_website.duplicator.archives\u001b[m\u001b[m\n",
      "\u001b[34mScience.git\u001b[m\u001b[m                       \u001b[34mperlan.old\u001b[m\u001b[m\n",
      "\u001b[34mTRASH_LATER\u001b[m\u001b[m                       \u001b[34mperlan.old2\u001b[m\u001b[m\n",
      "\u001b[34mToolset\u001b[m\u001b[m                           \u001b[34mperlanproject.org\u001b[m\u001b[m\n",
      "\u001b[34massets\u001b[m\u001b[m                            \u001b[34mpods\u001b[m\u001b[m\n",
      "\u001b[34mclippings\u001b[m\u001b[m                         \u001b[34mpods.old\u001b[m\u001b[m\n",
      "\u001b[34mdata\u001b[m\u001b[m                              \u001b[34mtmp\u001b[m\u001b[m\n",
      "data website plan.ooutline        \u001b[34mwindField\u001b[m\u001b[m\n",
      "\u001b[34mdata_website\u001b[m\u001b[m                      wp-config.php.save\n",
      "\u001b[34mdata_website.202105026_1010\u001b[m\u001b[m       wp_options__wpcf_fields\n"
     ]
    }
   ],
   "source": [
    "!ls"
   ]
  },
  {
   "cell_type": "markdown",
   "id": "original-wiring",
   "metadata": {},
   "source": [
    "# Read CSV\n",
    "\n",
    "We expect `flights.csv` to have the per-flight metadata already.  Originally it was gleaned from `flights.xlsx` but now has been further modified.\n",
    "\n",
    "After reading `flights.csv` we walk the directory `data/Flights` to find data files and add those names to the CSV."
   ]
  },
  {
   "cell_type": "code",
   "execution_count": 5,
   "id": "worse-delivery",
   "metadata": {},
   "outputs": [],
   "source": [
    "svn_root  = 'Controlled.svn/Systems/Data Network Logs/'\n",
    "data_root = 'data/'\n",
    "flights_root = data_root + 'Flights'\n",
    "ballons_root = data_root + 'Soundings'"
   ]
  },
  {
   "cell_type": "code",
   "execution_count": 6,
   "id": "charitable-cathedral",
   "metadata": {},
   "outputs": [],
   "source": [
    "csv = pd.read_csv(f\"{data_root}/flights.csv\")"
   ]
  },
  {
   "cell_type": "code",
   "execution_count": 7,
   "id": "preliminary-borough",
   "metadata": {},
   "outputs": [
    {
     "data": {
      "text/plain": [
       "Index(['post_type', 'post_title', 'post_content', 'post_excerpt',\n",
       "       'flight_number', 'takeoff_airport', 'landing_airport',\n",
       "       'takeoff_datetime_local', 'landing_datetime_local',\n",
       "       'flight_duration_hours', 'release_altitude_feet',\n",
       "       'maximum_altitude_feet', 'maximum_gps_altitude_feet', 'pilot_front',\n",
       "       'pilot_rear', 'data_ac', 'data_adp', 'data_imu', 'data_kml', 'data_uv'],\n",
       "      dtype='object')"
      ]
     },
     "execution_count": 7,
     "metadata": {},
     "output_type": "execute_result"
    }
   ],
   "source": [
    "csv.columns"
   ]
  },
  {
   "cell_type": "markdown",
   "id": "polished-advertiser",
   "metadata": {},
   "source": [
    "## Initial Cleanup\n"
   ]
  },
  {
   "cell_type": "code",
   "execution_count": 8,
   "id": "planned-carpet",
   "metadata": {},
   "outputs": [],
   "source": [
    "# Create post_title.  e.g., if flight_number == 69, post_title = \"Flight 0069\"\n",
    "csv['post_title'] = csv.flight_number.apply(lambda s: f\"Flight {s:04}\")"
   ]
  },
  {
   "cell_type": "code",
   "execution_count": 9,
   "id": "necessary-sixth",
   "metadata": {},
   "outputs": [],
   "source": [
    "# Zero-out the columns we populate by walking the directory tree to find files\n",
    "csv['data_ac'] = \"\"\n",
    "csv['data_uv'] = \"\"\n",
    "csv['data_kml'] = \"\"\n",
    "csv['data_adp'] = \"\"\n",
    "csv['data_imu'] = \"\""
   ]
  },
  {
   "cell_type": "markdown",
   "id": "southwest-poultry",
   "metadata": {},
   "source": [
    "### Deal with missing/bad data"
   ]
  },
  {
   "cell_type": "code",
   "execution_count": 10,
   "id": "covered-effectiveness",
   "metadata": {},
   "outputs": [],
   "source": [
    "# delete any null rows\n",
    "csv.dropna(how='all', inplace=True)"
   ]
  },
  {
   "cell_type": "code",
   "execution_count": 11,
   "id": "continental-retreat",
   "metadata": {},
   "outputs": [],
   "source": [
    "# Convert all Nan and None to \"\"\n",
    "# This isn't usually needed, as df.to_csv() usually works, but just to be completely sure we get what we need...\n",
    "csv = csv.fillna(value=\"\")"
   ]
  },
  {
   "cell_type": "code",
   "execution_count": 12,
   "id": "complete-accident",
   "metadata": {},
   "outputs": [],
   "source": [
    "# Delete 'Unnamed' columns - this happens if CSV is saved via df.to_csv(index=True)\n",
    "# This shouldn't happen, of course, and it's harmless, but annoying.\n",
    "for col in csv.columns:\n",
    "    match = 'Unnamed'\n",
    "    if col[:len(match)] == match:\n",
    "        print(f\"Deleting junk column {col}\")\n",
    "        del csv[col]"
   ]
  },
  {
   "cell_type": "markdown",
   "id": "norwegian-schedule",
   "metadata": {},
   "source": [
    "### Data Types"
   ]
  },
  {
   "cell_type": "code",
   "execution_count": 13,
   "id": "rural-blair",
   "metadata": {},
   "outputs": [],
   "source": [
    "# ensure correct types - int columns can become float if any missing data\n",
    "csv['flight_number'] = csv.flight_number.astype(int, copy=False)"
   ]
  },
  {
   "cell_type": "code",
   "execution_count": 14,
   "id": "identified-picture",
   "metadata": {},
   "outputs": [
    {
     "data": {
      "text/plain": [
       "Index(['post_type', 'post_title', 'post_content', 'post_excerpt',\n",
       "       'flight_number', 'takeoff_airport', 'landing_airport',\n",
       "       'takeoff_datetime_local', 'landing_datetime_local',\n",
       "       'flight_duration_hours', 'release_altitude_feet',\n",
       "       'maximum_altitude_feet', 'maximum_gps_altitude_feet', 'pilot_front',\n",
       "       'pilot_rear', 'data_ac', 'data_adp', 'data_imu', 'data_kml', 'data_uv'],\n",
       "      dtype='object')"
      ]
     },
     "execution_count": 14,
     "metadata": {},
     "output_type": "execute_result"
    }
   ],
   "source": [
    "csv.columns"
   ]
  },
  {
   "cell_type": "markdown",
   "id": "japanese-highlight",
   "metadata": {},
   "source": [
    "## Choose which columns to keep and in what order"
   ]
  },
  {
   "cell_type": "code",
   "execution_count": 15,
   "id": "thorough-accountability",
   "metadata": {},
   "outputs": [],
   "source": [
    "csv = csv[[ \n",
    "    'post_type', 'post_title', 'post_content', 'post_excerpt',\n",
    "    'flight_number', \n",
    "    'takeoff_airport', 'landing_airport',\n",
    "    'takeoff_datetime_local', 'landing_datetime_local', 'flight_duration_hours', \n",
    "    'release_altitude_feet', 'maximum_altitude_feet', 'maximum_gps_altitude_feet', \n",
    "    'pilot_front', 'pilot_rear', \n",
    "    'data_ac', 'data_adp', 'data_imu', 'data_kml', 'data_uv',\n",
    "]]"
   ]
  },
  {
   "cell_type": "markdown",
   "id": "continental-kuwait",
   "metadata": {},
   "source": [
    "## Sanity Check: Input\n",
    "Look these over to make sure everything looks OK."
   ]
  },
  {
   "cell_type": "code",
   "execution_count": 16,
   "id": "experimental-revolution",
   "metadata": {},
   "outputs": [
    {
     "data": {
      "text/html": [
       "<div>\n",
       "<style scoped>\n",
       "    .dataframe tbody tr th:only-of-type {\n",
       "        vertical-align: middle;\n",
       "    }\n",
       "\n",
       "    .dataframe tbody tr th {\n",
       "        vertical-align: top;\n",
       "    }\n",
       "\n",
       "    .dataframe thead th {\n",
       "        text-align: right;\n",
       "    }\n",
       "</style>\n",
       "<table border=\"1\" class=\"dataframe\">\n",
       "  <thead>\n",
       "    <tr style=\"text-align: right;\">\n",
       "      <th></th>\n",
       "      <th>post_type</th>\n",
       "      <th>post_title</th>\n",
       "      <th>post_content</th>\n",
       "      <th>post_excerpt</th>\n",
       "      <th>flight_number</th>\n",
       "      <th>takeoff_airport</th>\n",
       "      <th>landing_airport</th>\n",
       "      <th>takeoff_datetime_local</th>\n",
       "      <th>landing_datetime_local</th>\n",
       "      <th>flight_duration_hours</th>\n",
       "      <th>release_altitude_feet</th>\n",
       "      <th>maximum_altitude_feet</th>\n",
       "      <th>maximum_gps_altitude_feet</th>\n",
       "      <th>pilot_front</th>\n",
       "      <th>pilot_rear</th>\n",
       "      <th>data_ac</th>\n",
       "      <th>data_adp</th>\n",
       "      <th>data_imu</th>\n",
       "      <th>data_kml</th>\n",
       "      <th>data_uv</th>\n",
       "    </tr>\n",
       "  </thead>\n",
       "  <tbody>\n",
       "    <tr>\n",
       "      <th>0</th>\n",
       "      <td>flight</td>\n",
       "      <td>Flight 0001</td>\n",
       "      <td>First Flight</td>\n",
       "      <td>First Flight</td>\n",
       "      <td>1</td>\n",
       "      <td>KRDM</td>\n",
       "      <td>KRDM</td>\n",
       "      <td>2015-09-23 08:18</td>\n",
       "      <td>2015-09-23 08:51</td>\n",
       "      <td>0.6</td>\n",
       "      <td>8100</td>\n",
       "      <td>8100</td>\n",
       "      <td></td>\n",
       "      <td>Jim Payne</td>\n",
       "      <td>Morgan Sandercock</td>\n",
       "      <td></td>\n",
       "      <td></td>\n",
       "      <td></td>\n",
       "      <td></td>\n",
       "      <td></td>\n",
       "    </tr>\n",
       "    <tr>\n",
       "      <th>1</th>\n",
       "      <td>flight</td>\n",
       "      <td>Flight 0002</td>\n",
       "      <td>flight testing</td>\n",
       "      <td>flight testing</td>\n",
       "      <td>2</td>\n",
       "      <td>KMEV</td>\n",
       "      <td>KMEV</td>\n",
       "      <td>2016-01-15 13:07</td>\n",
       "      <td>2016-01-15 13:50</td>\n",
       "      <td>0.7</td>\n",
       "      <td>10800</td>\n",
       "      <td>10800</td>\n",
       "      <td></td>\n",
       "      <td>Jim Payne</td>\n",
       "      <td>Miguel Iturmendi</td>\n",
       "      <td></td>\n",
       "      <td></td>\n",
       "      <td></td>\n",
       "      <td></td>\n",
       "      <td></td>\n",
       "    </tr>\n",
       "    <tr>\n",
       "      <th>2</th>\n",
       "      <td>flight</td>\n",
       "      <td>Flight 0003</td>\n",
       "      <td></td>\n",
       "      <td></td>\n",
       "      <td>3</td>\n",
       "      <td>KMEV</td>\n",
       "      <td>KMEV</td>\n",
       "      <td>2016-01-15 14:20</td>\n",
       "      <td>2016-01-15 15:02</td>\n",
       "      <td>0.7</td>\n",
       "      <td>10700</td>\n",
       "      <td>10700</td>\n",
       "      <td></td>\n",
       "      <td>Jim Payne</td>\n",
       "      <td>Miguel Iturmendi</td>\n",
       "      <td></td>\n",
       "      <td></td>\n",
       "      <td></td>\n",
       "      <td></td>\n",
       "      <td></td>\n",
       "    </tr>\n",
       "    <tr>\n",
       "      <th>3</th>\n",
       "      <td>flight</td>\n",
       "      <td>Flight 0004</td>\n",
       "      <td></td>\n",
       "      <td></td>\n",
       "      <td>4</td>\n",
       "      <td>KMEV</td>\n",
       "      <td>KMEV</td>\n",
       "      <td>2016-01-27 14:23</td>\n",
       "      <td>2016-01-27 14:45</td>\n",
       "      <td>0.4</td>\n",
       "      <td>7600</td>\n",
       "      <td>7600</td>\n",
       "      <td></td>\n",
       "      <td>Jim Payne</td>\n",
       "      <td></td>\n",
       "      <td></td>\n",
       "      <td></td>\n",
       "      <td></td>\n",
       "      <td></td>\n",
       "      <td></td>\n",
       "    </tr>\n",
       "    <tr>\n",
       "      <th>4</th>\n",
       "      <td>flight</td>\n",
       "      <td>Flight 0005</td>\n",
       "      <td></td>\n",
       "      <td></td>\n",
       "      <td>5</td>\n",
       "      <td>KMEV</td>\n",
       "      <td>KMEV</td>\n",
       "      <td>2016-01-27 15:25</td>\n",
       "      <td>2016-01-27 15:55</td>\n",
       "      <td>0.5</td>\n",
       "      <td>8700</td>\n",
       "      <td>8700</td>\n",
       "      <td></td>\n",
       "      <td>Jim Payne</td>\n",
       "      <td></td>\n",
       "      <td></td>\n",
       "      <td></td>\n",
       "      <td></td>\n",
       "      <td></td>\n",
       "      <td></td>\n",
       "    </tr>\n",
       "  </tbody>\n",
       "</table>\n",
       "</div>"
      ],
      "text/plain": [
       "  post_type   post_title    post_content    post_excerpt  flight_number  \\\n",
       "0    flight  Flight 0001    First Flight    First Flight              1   \n",
       "1    flight  Flight 0002  flight testing  flight testing              2   \n",
       "2    flight  Flight 0003                                              3   \n",
       "3    flight  Flight 0004                                              4   \n",
       "4    flight  Flight 0005                                              5   \n",
       "\n",
       "  takeoff_airport landing_airport takeoff_datetime_local  \\\n",
       "0            KRDM            KRDM       2015-09-23 08:18   \n",
       "1            KMEV            KMEV       2016-01-15 13:07   \n",
       "2            KMEV            KMEV       2016-01-15 14:20   \n",
       "3            KMEV            KMEV       2016-01-27 14:23   \n",
       "4            KMEV            KMEV       2016-01-27 15:25   \n",
       "\n",
       "  landing_datetime_local  flight_duration_hours  release_altitude_feet  \\\n",
       "0       2015-09-23 08:51                    0.6                   8100   \n",
       "1       2016-01-15 13:50                    0.7                  10800   \n",
       "2       2016-01-15 15:02                    0.7                  10700   \n",
       "3       2016-01-27 14:45                    0.4                   7600   \n",
       "4       2016-01-27 15:55                    0.5                   8700   \n",
       "\n",
       "   maximum_altitude_feet maximum_gps_altitude_feet pilot_front  \\\n",
       "0                   8100                             Jim Payne   \n",
       "1                  10800                             Jim Payne   \n",
       "2                  10700                             Jim Payne   \n",
       "3                   7600                             Jim Payne   \n",
       "4                   8700                             Jim Payne   \n",
       "\n",
       "          pilot_rear data_ac data_adp data_imu data_kml data_uv  \n",
       "0  Morgan Sandercock                                             \n",
       "1   Miguel Iturmendi                                             \n",
       "2   Miguel Iturmendi                                             \n",
       "3                                                                \n",
       "4                                                                "
      ]
     },
     "execution_count": 16,
     "metadata": {},
     "output_type": "execute_result"
    }
   ],
   "source": [
    "csv.head()"
   ]
  },
  {
   "cell_type": "code",
   "execution_count": 17,
   "id": "molecular-bobby",
   "metadata": {},
   "outputs": [
    {
     "data": {
      "text/plain": [
       "post_type                     object\n",
       "post_title                    object\n",
       "post_content                  object\n",
       "post_excerpt                  object\n",
       "flight_number                  int64\n",
       "takeoff_airport               object\n",
       "landing_airport               object\n",
       "takeoff_datetime_local        object\n",
       "landing_datetime_local        object\n",
       "flight_duration_hours        float64\n",
       "release_altitude_feet          int64\n",
       "maximum_altitude_feet          int64\n",
       "maximum_gps_altitude_feet     object\n",
       "pilot_front                   object\n",
       "pilot_rear                    object\n",
       "data_ac                       object\n",
       "data_adp                      object\n",
       "data_imu                      object\n",
       "data_kml                      object\n",
       "data_uv                       object\n",
       "dtype: object"
      ]
     },
     "execution_count": 17,
     "metadata": {},
     "output_type": "execute_result"
    }
   ],
   "source": [
    "csv.dtypes"
   ]
  },
  {
   "cell_type": "code",
   "execution_count": 18,
   "id": "dimensional-relevance",
   "metadata": {},
   "outputs": [
    {
     "name": "stdout",
     "output_type": "stream",
     "text": [
      "  post_type   post_title post_content post_excerpt  flight_number  \\\n",
      "3    flight  Flight 0004                                        4   \n",
      "\n",
      "  takeoff_airport landing_airport takeoff_datetime_local  \\\n",
      "3            KMEV            KMEV       2016-01-27 14:23   \n",
      "\n",
      "  landing_datetime_local  flight_duration_hours  release_altitude_feet  \\\n",
      "3       2016-01-27 14:45                    0.4                   7600   \n",
      "\n",
      "   maximum_altitude_feet maximum_gps_altitude_feet pilot_front pilot_rear  \\\n",
      "3                   7600                             Jim Payne              \n",
      "\n",
      "  data_ac data_adp data_imu data_kml data_uv  \n",
      "3                                             \n"
     ]
    }
   ],
   "source": [
    "rec = csv[csv['flight_number'] == 4]\n",
    "print(rec)"
   ]
  },
  {
   "cell_type": "code",
   "execution_count": 19,
   "id": "consecutive-doctrine",
   "metadata": {},
   "outputs": [
    {
     "data": {
      "text/plain": [
       "Index(['post_type', 'post_title', 'post_content', 'post_excerpt',\n",
       "       'flight_number', 'takeoff_airport', 'landing_airport',\n",
       "       'takeoff_datetime_local', 'landing_datetime_local',\n",
       "       'flight_duration_hours', 'release_altitude_feet',\n",
       "       'maximum_altitude_feet', 'maximum_gps_altitude_feet', 'pilot_front',\n",
       "       'pilot_rear', 'data_ac', 'data_adp', 'data_imu', 'data_kml', 'data_uv'],\n",
       "      dtype='object')"
      ]
     },
     "execution_count": 19,
     "metadata": {},
     "output_type": "execute_result"
    }
   ],
   "source": [
    "csv.columns"
   ]
  },
  {
   "cell_type": "markdown",
   "id": "capable-slovakia",
   "metadata": {},
   "source": [
    "# Find Data Files"
   ]
  },
  {
   "cell_type": "code",
   "execution_count": 20,
   "id": "neural-kennedy",
   "metadata": {},
   "outputs": [],
   "source": [
    "flts = pu.get_subdirs(flights_root)\n",
    "#flts"
   ]
  },
  {
   "cell_type": "code",
   "execution_count": 21,
   "id": "composed-controversy",
   "metadata": {},
   "outputs": [
    {
     "name": "stdout",
     "output_type": "stream",
     "text": [
      "#61\tdata/Flights/0061\t['Flt0061IMU.zip', 'Flt0061AC.xlsb', 'Flt0061ADP.zip', 'Flt0061.kml', 'Flt0061UV.xlsx']\n",
      "IMU = http://localhost/data/Flights/0061/Flt0061IMU.zip\n",
      "AC = http://localhost/data/Flights/0061/Flt0061AC.xlsb\n",
      "ADP = http://localhost/data/Flights/0061/Flt0061ADP.zip\n",
      "KML = http://localhost/data/Flights/0061/Flt0061.kml\n",
      "UV = http://localhost/data/Flights/0061/Flt0061UV.xlsx\n",
      "#59\tdata/Flights/0059\t['Flt0059AC.xlsx', 'Flt0059IMU.zip', 'Flt0059.kml', 'Flt0059ADP.zip', 'Flt0059UV.xlsx']\n",
      "AC = http://localhost/data/Flights/0059/Flt0059AC.xlsx\n",
      "IMU = http://localhost/data/Flights/0059/Flt0059IMU.zip\n",
      "KML = http://localhost/data/Flights/0059/Flt0059.kml\n",
      "ADP = http://localhost/data/Flights/0059/Flt0059ADP.zip\n",
      "UV = http://localhost/data/Flights/0059/Flt0059UV.xlsx\n",
      "#50\tdata/Flights/0050\t['Flt0050UV.xlsx', 'Flt0050.kml', 'Flt0050AC.xlsb']\n",
      "UV = http://localhost/data/Flights/0050/Flt0050UV.xlsx\n",
      "KML = http://localhost/data/Flights/0050/Flt0050.kml\n",
      "AC = http://localhost/data/Flights/0050/Flt0050AC.xlsb\n",
      "#57\tdata/Flights/0057\t['Flt0057AC.xlsx', 'Flt0057UV.xlsx']\n",
      "AC = http://localhost/data/Flights/0057/Flt0057AC.xlsx\n",
      "UV = http://localhost/data/Flights/0057/Flt0057UV.xlsx\n",
      "#32\tdata/Flights/0032\t['Flt0032AC.xlsb', 'Flt0032.kml']\n",
      "AC = http://localhost/data/Flights/0032/Flt0032AC.xlsb\n",
      "KML = http://localhost/data/Flights/0032/Flt0032.kml\n",
      "#35\tdata/Flights/0035\t['Flt0035AC.xlsb', 'Flt0035.kml']\n",
      "AC = http://localhost/data/Flights/0035/Flt0035AC.xlsb\n",
      "KML = http://localhost/data/Flights/0035/Flt0035.kml\n",
      "#56\tdata/Flights/0056\t['Flt0056IMU.zip']\n",
      "IMU = http://localhost/data/Flights/0056/Flt0056IMU.zip\n",
      "#51\tdata/Flights/0051\t['Flt0051AC.xlsb', 'Flt0051.kml', 'Flt0051UV.xlsx']\n",
      "AC = http://localhost/data/Flights/0051/Flt0051AC.xlsb\n",
      "KML = http://localhost/data/Flights/0051/Flt0051.kml\n",
      "UV = http://localhost/data/Flights/0051/Flt0051UV.xlsx\n",
      "#58\tdata/Flights/0058\t['.DS_Store', 'Flt0058UV.xlsx', 'Flt0058AC.xlsx', 'Flt0058IMU.zip', 'Flt0058ADP.zip']\n",
      "UV = http://localhost/data/Flights/0058/Flt0058UV.xlsx\n",
      "AC = http://localhost/data/Flights/0058/Flt0058AC.xlsx\n",
      "IMU = http://localhost/data/Flights/0058/Flt0058IMU.zip\n",
      "ADP = http://localhost/data/Flights/0058/Flt0058ADP.zip\n",
      "#60\tdata/Flights/0060\t['Flt0060UV.xlsx', 'Flt0060IMU.zip', 'Flt0060AC.xlsb', 'Flt0060ADP.zip']\n",
      "UV = http://localhost/data/Flights/0060/Flt0060UV.xlsx\n",
      "IMU = http://localhost/data/Flights/0060/Flt0060IMU.zip\n",
      "AC = http://localhost/data/Flights/0060/Flt0060AC.xlsb\n",
      "ADP = http://localhost/data/Flights/0060/Flt0060ADP.zip\n",
      "#34\tdata/Flights/0034\t['Flt0034AC.xlsb']\n",
      "AC = http://localhost/data/Flights/0034/Flt0034AC.xlsb\n",
      "#33\tdata/Flights/0033\t['Flt0033.kml', 'Flt0033AC.xlsb']\n",
      "KML = http://localhost/data/Flights/0033/Flt0033.kml\n",
      "AC = http://localhost/data/Flights/0033/Flt0033AC.xlsb\n",
      "#20\tdata/Flights/0020\t['Flt0020AC.xlsx']\n",
      "AC = http://localhost/data/Flights/0020/Flt0020AC.xlsx\n",
      "#29\tdata/Flights/0029\t['Flt0029AC.xlsx']\n",
      "AC = http://localhost/data/Flights/0029/Flt0029AC.xlsx\n",
      "#42\tdata/Flights/0042\t['.DS_Store', 'Flt0042UV.xlsx', 'Flt0042AC.xlsx']\n",
      "UV = http://localhost/data/Flights/0042/Flt0042UV.xlsx\n",
      "AC = http://localhost/data/Flights/0042/Flt0042AC.xlsx\n",
      "#45\tdata/Flights/0045\t['Flt0045AC.xlsx', 'Flt0045.kml']\n",
      "AC = http://localhost/data/Flights/0045/Flt0045AC.xlsx\n",
      "KML = http://localhost/data/Flights/0045/Flt0045.kml\n",
      "#28\tdata/Flights/0028\t['Flt0028AC.xlsx']\n",
      "AC = http://localhost/data/Flights/0028/Flt0028AC.xlsx\n",
      "#19\tdata/Flights/0019\t['Flt0019AC.xlsx']\n",
      "AC = http://localhost/data/Flights/0019/Flt0019AC.xlsx\n",
      "#26\tdata/Flights/0026\t['Flt0025AC.xlsx', 'Flt0026.kml']\n",
      "AC = http://localhost/data/Flights/0026/Flt0025AC.xlsx\n",
      "KML = http://localhost/data/Flights/0026/Flt0026.kml\n",
      "#21\tdata/Flights/0021\t['Flt0021.kml', 'Flt0021AC.xlsx']\n",
      "KML = http://localhost/data/Flights/0021/Flt0021.kml\n",
      "AC = http://localhost/data/Flights/0021/Flt0021AC.xlsx\n",
      "#38\tdata/Flights/0038\t['Flt0038AC.xlsb', 'Flt0038.kml']\n",
      "AC = http://localhost/data/Flights/0038/Flt0038AC.xlsb\n",
      "KML = http://localhost/data/Flights/0038/Flt0038.kml\n",
      "#36\tdata/Flights/0036\t['Flt0036AC.xlsb', 'Flt0036.kml']\n",
      "AC = http://localhost/data/Flights/0036/Flt0036AC.xlsb\n",
      "KML = http://localhost/data/Flights/0036/Flt0036.kml\n",
      "#31\tdata/Flights/0031\t['Flt0031AC.xlsx', 'Flt0031.kml']\n",
      "AC = http://localhost/data/Flights/0031/Flt0031AC.xlsx\n",
      "KML = http://localhost/data/Flights/0031/Flt0031.kml\n",
      "#65\tdata/Flights/0065\t['Flt0065ADP.zip', 'Flt0065AC.xlsx', 'Flt0065.kml', 'Flt0065IMU.zip', 'Flt0065UV.xlsx']\n",
      "ADP = http://localhost/data/Flights/0065/Flt0065ADP.zip\n",
      "AC = http://localhost/data/Flights/0065/Flt0065AC.xlsx\n",
      "KML = http://localhost/data/Flights/0065/Flt0065.kml\n",
      "IMU = http://localhost/data/Flights/0065/Flt0065IMU.zip\n",
      "UV = http://localhost/data/Flights/0065/Flt0065UV.xlsx\n",
      "#62\tdata/Flights/0062\t['Flt0062UV.xlsx', 'Flt0062.kml', 'Flt0062AC.xlsb', 'Flt0062IMU.zip', 'Flt0062ADP.zip']\n",
      "UV = http://localhost/data/Flights/0062/Flt0062UV.xlsx\n",
      "KML = http://localhost/data/Flights/0062/Flt0062.kml\n",
      "AC = http://localhost/data/Flights/0062/Flt0062AC.xlsb\n",
      "IMU = http://localhost/data/Flights/0062/Flt0062IMU.zip\n",
      "ADP = http://localhost/data/Flights/0062/Flt0062ADP.zip\n",
      "#54\tdata/Flights/0054\t['Flt0054AC.xlsb', 'Flt0054.kml']\n",
      "AC = http://localhost/data/Flights/0054/Flt0054AC.xlsb\n",
      "KML = http://localhost/data/Flights/0054/Flt0054.kml\n",
      "#53\tdata/Flights/0053\t['Flt0053AC.xlsb', 'Flt0053.kml', 'Flt0053UV.xlsx']\n",
      "AC = http://localhost/data/Flights/0053/Flt0053AC.xlsb\n",
      "KML = http://localhost/data/Flights/0053/Flt0053.kml\n",
      "UV = http://localhost/data/Flights/0053/Flt0053UV.xlsx\n",
      "#30\tdata/Flights/0030\t['Flt0030AC.xlsx']\n",
      "AC = http://localhost/data/Flights/0030/Flt0030AC.xlsx\n",
      "#37\tdata/Flights/0037\t['Flt0037AC.xlsx', 'Flt0037.kml']\n",
      "AC = http://localhost/data/Flights/0037/Flt0037AC.xlsx\n",
      "KML = http://localhost/data/Flights/0037/Flt0037.kml\n",
      "#39\tdata/Flights/0039\t['Flt0039.kml', 'Flt0039AC.xlsx']\n",
      "KML = http://localhost/data/Flights/0039/Flt0039.kml\n",
      "AC = http://localhost/data/Flights/0039/Flt0039AC.xlsx\n",
      "#52\tdata/Flights/0052\t['Flt0052UV.xlsx', 'Flt0052.kml', 'Flt0052AC.xlsb']\n",
      "UV = http://localhost/data/Flights/0052/Flt0052UV.xlsx\n",
      "KML = http://localhost/data/Flights/0052/Flt0052.kml\n",
      "AC = http://localhost/data/Flights/0052/Flt0052AC.xlsb\n",
      "#55\tdata/Flights/0055\t['Flt0055AC.xlsx', 'Flt0055IMU.zip', 'Flt0055UV.xlsx']\n",
      "AC = http://localhost/data/Flights/0055/Flt0055AC.xlsx\n",
      "IMU = http://localhost/data/Flights/0055/Flt0055IMU.zip\n",
      "UV = http://localhost/data/Flights/0055/Flt0055UV.xlsx\n",
      "#63\tdata/Flights/0063\t['Flt0063AC.xlsb', 'Flt0063IMU.zip', 'Flt0063.kml', 'Flt0063ADP.zip', 'Flt0063UV.xlsb']\n",
      "AC = http://localhost/data/Flights/0063/Flt0063AC.xlsb\n",
      "IMU = http://localhost/data/Flights/0063/Flt0063IMU.zip\n",
      "KML = http://localhost/data/Flights/0063/Flt0063.kml\n",
      "ADP = http://localhost/data/Flights/0063/Flt0063ADP.zip\n",
      "UV = http://localhost/data/Flights/0063/Flt0063UV.xlsb\n",
      "#64\tdata/Flights/0064\t['Flt0064.kml', 'Flt0064UV.xlsb', 'Flt0064ADP.zip', 'Flt0064AC.xlsb', 'Flt0064IMU.zip']\n",
      "KML = http://localhost/data/Flights/0064/Flt0064.kml\n",
      "UV = http://localhost/data/Flights/0064/Flt0064UV.xlsb\n",
      "ADP = http://localhost/data/Flights/0064/Flt0064ADP.zip\n",
      "AC = http://localhost/data/Flights/0064/Flt0064AC.xlsb\n",
      "IMU = http://localhost/data/Flights/0064/Flt0064IMU.zip\n",
      "#46\tdata/Flights/0046\t['.DS_Store', 'Flt0046UV.xlsx', 'Flt0046AC.xlsx', 'Flt0046.kml']\n",
      "UV = http://localhost/data/Flights/0046/Flt0046UV.xlsx\n",
      "AC = http://localhost/data/Flights/0046/Flt0046AC.xlsx\n",
      "KML = http://localhost/data/Flights/0046/Flt0046.kml\n",
      "#41\tdata/Flights/0041\t['Flt0041AC.xlsx', 'Flt0041UV.xlsx']\n",
      "AC = http://localhost/data/Flights/0041/Flt0041AC.xlsx\n",
      "UV = http://localhost/data/Flights/0041/Flt0041UV.xlsx\n",
      "#48\tdata/Flights/0048\t['Flt0048UV.xlsx', 'Flt0048.kml', 'Flt0048AC.xlsb']\n",
      "UV = http://localhost/data/Flights/0048/Flt0048UV.xlsx\n",
      "KML = http://localhost/data/Flights/0048/Flt0048.kml\n",
      "AC = http://localhost/data/Flights/0048/Flt0048AC.xlsb\n",
      "#24\tdata/Flights/0024\t['Flt0024AC.xlsx']\n",
      "AC = http://localhost/data/Flights/0024/Flt0024AC.xlsx\n",
      "#23\tdata/Flights/0023\t['Flt0023.kml', 'Flt0023AC.xlsx']\n",
      "KML = http://localhost/data/Flights/0023/Flt0023.kml\n",
      "AC = http://localhost/data/Flights/0023/Flt0023AC.xlsx\n",
      "#49\tdata/Flights/0049\t['.DS_Store', 'Flt0049AC.xlsb', 'Flt0049.kml', 'Flt0049UV.xlsx']\n",
      "AC = http://localhost/data/Flights/0049/Flt0049AC.xlsb\n",
      "KML = http://localhost/data/Flights/0049/Flt0049.kml\n",
      "UV = http://localhost/data/Flights/0049/Flt0049UV.xlsx\n",
      "#40\tdata/Flights/0040\t['Flt0040.kml', 'Flt0040AC.xlsx']\n",
      "KML = http://localhost/data/Flights/0040/Flt0040.kml\n",
      "AC = http://localhost/data/Flights/0040/Flt0040AC.xlsx\n",
      "#47\tdata/Flights/0047\t['Flt0047AC.xlsb', '.DS_Store', 'Flt0047UV.xlsx']\n",
      "AC = http://localhost/data/Flights/0047/Flt0047AC.xlsb\n",
      "UV = http://localhost/data/Flights/0047/Flt0047UV.xlsx\n",
      "#22\tdata/Flights/0022\t['Flt0022AC.xlsx', 'Flt0022.kml']\n",
      "AC = http://localhost/data/Flights/0022/Flt0022AC.xlsx\n",
      "KML = http://localhost/data/Flights/0022/Flt0022.kml\n",
      "#25\tdata/Flights/0025\t['Flt0025AC.xlsx', 'Flt0025.kml']\n",
      "AC = http://localhost/data/Flights/0025/Flt0025AC.xlsx\n",
      "KML = http://localhost/data/Flights/0025/Flt0025.kml\n"
     ]
    },
    {
     "data": {
      "text/html": [
       "<div>\n",
       "<style scoped>\n",
       "    .dataframe tbody tr th:only-of-type {\n",
       "        vertical-align: middle;\n",
       "    }\n",
       "\n",
       "    .dataframe tbody tr th {\n",
       "        vertical-align: top;\n",
       "    }\n",
       "\n",
       "    .dataframe thead th {\n",
       "        text-align: right;\n",
       "    }\n",
       "</style>\n",
       "<table border=\"1\" class=\"dataframe\">\n",
       "  <thead>\n",
       "    <tr style=\"text-align: right;\">\n",
       "      <th></th>\n",
       "      <th>post_type</th>\n",
       "      <th>post_title</th>\n",
       "      <th>post_content</th>\n",
       "      <th>post_excerpt</th>\n",
       "      <th>flight_number</th>\n",
       "      <th>takeoff_airport</th>\n",
       "      <th>landing_airport</th>\n",
       "      <th>takeoff_datetime_local</th>\n",
       "      <th>landing_datetime_local</th>\n",
       "      <th>flight_duration_hours</th>\n",
       "      <th>release_altitude_feet</th>\n",
       "      <th>maximum_altitude_feet</th>\n",
       "      <th>maximum_gps_altitude_feet</th>\n",
       "      <th>pilot_front</th>\n",
       "      <th>pilot_rear</th>\n",
       "      <th>data_ac</th>\n",
       "      <th>data_adp</th>\n",
       "      <th>data_imu</th>\n",
       "      <th>data_kml</th>\n",
       "      <th>data_uv</th>\n",
       "    </tr>\n",
       "  </thead>\n",
       "  <tbody>\n",
       "    <tr>\n",
       "      <th>0</th>\n",
       "      <td>flight</td>\n",
       "      <td>Flight 0001</td>\n",
       "      <td>First Flight</td>\n",
       "      <td>First Flight</td>\n",
       "      <td>1</td>\n",
       "      <td>KRDM</td>\n",
       "      <td>KRDM</td>\n",
       "      <td>2015-09-23 08:18</td>\n",
       "      <td>2015-09-23 08:51</td>\n",
       "      <td>0.6</td>\n",
       "      <td>8100</td>\n",
       "      <td>8100</td>\n",
       "      <td></td>\n",
       "      <td>Jim Payne</td>\n",
       "      <td>Morgan Sandercock</td>\n",
       "      <td></td>\n",
       "      <td></td>\n",
       "      <td></td>\n",
       "      <td></td>\n",
       "      <td></td>\n",
       "    </tr>\n",
       "    <tr>\n",
       "      <th>1</th>\n",
       "      <td>flight</td>\n",
       "      <td>Flight 0002</td>\n",
       "      <td>flight testing</td>\n",
       "      <td>flight testing</td>\n",
       "      <td>2</td>\n",
       "      <td>KMEV</td>\n",
       "      <td>KMEV</td>\n",
       "      <td>2016-01-15 13:07</td>\n",
       "      <td>2016-01-15 13:50</td>\n",
       "      <td>0.7</td>\n",
       "      <td>10800</td>\n",
       "      <td>10800</td>\n",
       "      <td></td>\n",
       "      <td>Jim Payne</td>\n",
       "      <td>Miguel Iturmendi</td>\n",
       "      <td></td>\n",
       "      <td></td>\n",
       "      <td></td>\n",
       "      <td></td>\n",
       "      <td></td>\n",
       "    </tr>\n",
       "    <tr>\n",
       "      <th>2</th>\n",
       "      <td>flight</td>\n",
       "      <td>Flight 0003</td>\n",
       "      <td></td>\n",
       "      <td></td>\n",
       "      <td>3</td>\n",
       "      <td>KMEV</td>\n",
       "      <td>KMEV</td>\n",
       "      <td>2016-01-15 14:20</td>\n",
       "      <td>2016-01-15 15:02</td>\n",
       "      <td>0.7</td>\n",
       "      <td>10700</td>\n",
       "      <td>10700</td>\n",
       "      <td></td>\n",
       "      <td>Jim Payne</td>\n",
       "      <td>Miguel Iturmendi</td>\n",
       "      <td></td>\n",
       "      <td></td>\n",
       "      <td></td>\n",
       "      <td></td>\n",
       "      <td></td>\n",
       "    </tr>\n",
       "    <tr>\n",
       "      <th>3</th>\n",
       "      <td>flight</td>\n",
       "      <td>Flight 0004</td>\n",
       "      <td></td>\n",
       "      <td></td>\n",
       "      <td>4</td>\n",
       "      <td>KMEV</td>\n",
       "      <td>KMEV</td>\n",
       "      <td>2016-01-27 14:23</td>\n",
       "      <td>2016-01-27 14:45</td>\n",
       "      <td>0.4</td>\n",
       "      <td>7600</td>\n",
       "      <td>7600</td>\n",
       "      <td></td>\n",
       "      <td>Jim Payne</td>\n",
       "      <td></td>\n",
       "      <td></td>\n",
       "      <td></td>\n",
       "      <td></td>\n",
       "      <td></td>\n",
       "      <td></td>\n",
       "    </tr>\n",
       "    <tr>\n",
       "      <th>4</th>\n",
       "      <td>flight</td>\n",
       "      <td>Flight 0005</td>\n",
       "      <td></td>\n",
       "      <td></td>\n",
       "      <td>5</td>\n",
       "      <td>KMEV</td>\n",
       "      <td>KMEV</td>\n",
       "      <td>2016-01-27 15:25</td>\n",
       "      <td>2016-01-27 15:55</td>\n",
       "      <td>0.5</td>\n",
       "      <td>8700</td>\n",
       "      <td>8700</td>\n",
       "      <td></td>\n",
       "      <td>Jim Payne</td>\n",
       "      <td></td>\n",
       "      <td></td>\n",
       "      <td></td>\n",
       "      <td></td>\n",
       "      <td></td>\n",
       "      <td></td>\n",
       "    </tr>\n",
       "    <tr>\n",
       "      <th>...</th>\n",
       "      <td>...</td>\n",
       "      <td>...</td>\n",
       "      <td>...</td>\n",
       "      <td>...</td>\n",
       "      <td>...</td>\n",
       "      <td>...</td>\n",
       "      <td>...</td>\n",
       "      <td>...</td>\n",
       "      <td>...</td>\n",
       "      <td>...</td>\n",
       "      <td>...</td>\n",
       "      <td>...</td>\n",
       "      <td>...</td>\n",
       "      <td>...</td>\n",
       "      <td>...</td>\n",
       "      <td>...</td>\n",
       "      <td>...</td>\n",
       "      <td>...</td>\n",
       "      <td>...</td>\n",
       "      <td>...</td>\n",
       "    </tr>\n",
       "    <tr>\n",
       "      <th>60</th>\n",
       "      <td>flight</td>\n",
       "      <td>Flight 0061</td>\n",
       "      <td></td>\n",
       "      <td></td>\n",
       "      <td>61</td>\n",
       "      <td>SAWC</td>\n",
       "      <td>SAWC</td>\n",
       "      <td>2019-08-31 10:37</td>\n",
       "      <td>2019-08-31 14:30</td>\n",
       "      <td>3.9</td>\n",
       "      <td>46600</td>\n",
       "      <td>56300</td>\n",
       "      <td></td>\n",
       "      <td>Jim Payne</td>\n",
       "      <td>Miguel Iturmendi</td>\n",
       "      <td>http://localhost/data/Flights/0061/Flt0061AC.xlsb</td>\n",
       "      <td>http://localhost/data/Flights/0061/Flt0061ADP.zip</td>\n",
       "      <td>http://localhost/data/Flights/0061/Flt0061IMU.zip</td>\n",
       "      <td>http://localhost/data/Flights/0061/Flt0061.kml</td>\n",
       "      <td>http://localhost/data/Flights/0061/Flt0061UV.xlsx</td>\n",
       "    </tr>\n",
       "    <tr>\n",
       "      <th>61</th>\n",
       "      <td>flight</td>\n",
       "      <td>Flight 0062</td>\n",
       "      <td></td>\n",
       "      <td></td>\n",
       "      <td>62</td>\n",
       "      <td>SAWC</td>\n",
       "      <td>SAWC</td>\n",
       "      <td>2019-09-06 13:33</td>\n",
       "      <td>2019-09-06 16:36</td>\n",
       "      <td>3.1</td>\n",
       "      <td>42000</td>\n",
       "      <td>42300</td>\n",
       "      <td></td>\n",
       "      <td>Jim Payne</td>\n",
       "      <td>Morgan Sandercock</td>\n",
       "      <td>http://localhost/data/Flights/0062/Flt0062AC.xlsb</td>\n",
       "      <td>http://localhost/data/Flights/0062/Flt0062ADP.zip</td>\n",
       "      <td>http://localhost/data/Flights/0062/Flt0062IMU.zip</td>\n",
       "      <td>http://localhost/data/Flights/0062/Flt0062.kml</td>\n",
       "      <td>http://localhost/data/Flights/0062/Flt0062UV.xlsx</td>\n",
       "    </tr>\n",
       "    <tr>\n",
       "      <th>62</th>\n",
       "      <td>flight</td>\n",
       "      <td>Flight 0063</td>\n",
       "      <td>tow height record</td>\n",
       "      <td>tow height record</td>\n",
       "      <td>63</td>\n",
       "      <td>SAWC</td>\n",
       "      <td>SAWC</td>\n",
       "      <td>2019-09-11 12:35</td>\n",
       "      <td>2019-09-11 18:11</td>\n",
       "      <td>5.6</td>\n",
       "      <td>47100</td>\n",
       "      <td>50600</td>\n",
       "      <td></td>\n",
       "      <td>Jim Payne</td>\n",
       "      <td>Tim Gardner</td>\n",
       "      <td>http://localhost/data/Flights/0063/Flt0063AC.xlsb</td>\n",
       "      <td>http://localhost/data/Flights/0063/Flt0063ADP.zip</td>\n",
       "      <td>http://localhost/data/Flights/0063/Flt0063IMU.zip</td>\n",
       "      <td>http://localhost/data/Flights/0063/Flt0063.kml</td>\n",
       "      <td>http://localhost/data/Flights/0063/Flt0063UV.xlsb</td>\n",
       "    </tr>\n",
       "    <tr>\n",
       "      <th>63</th>\n",
       "      <td>flight</td>\n",
       "      <td>Flight 0064</td>\n",
       "      <td></td>\n",
       "      <td></td>\n",
       "      <td>64</td>\n",
       "      <td>SAWC</td>\n",
       "      <td>SAWC</td>\n",
       "      <td>2019-09-14 09:13</td>\n",
       "      <td>2019-09-14 12:30</td>\n",
       "      <td>3.3</td>\n",
       "      <td>45100</td>\n",
       "      <td>49200</td>\n",
       "      <td></td>\n",
       "      <td>Jim Payne</td>\n",
       "      <td>Miguel Iturmendi</td>\n",
       "      <td>http://localhost/data/Flights/0064/Flt0064AC.xlsb</td>\n",
       "      <td>http://localhost/data/Flights/0064/Flt0064ADP.zip</td>\n",
       "      <td>http://localhost/data/Flights/0064/Flt0064IMU.zip</td>\n",
       "      <td>http://localhost/data/Flights/0064/Flt0064.kml</td>\n",
       "      <td>http://localhost/data/Flights/0064/Flt0064UV.xlsb</td>\n",
       "    </tr>\n",
       "    <tr>\n",
       "      <th>64</th>\n",
       "      <td>flight</td>\n",
       "      <td>Flight 0065</td>\n",
       "      <td>Last flight of 2019</td>\n",
       "      <td>Last flight of 2019</td>\n",
       "      <td>65</td>\n",
       "      <td>SAWC</td>\n",
       "      <td>SAWC</td>\n",
       "      <td>2019-09-17 11:20</td>\n",
       "      <td>2019-09-17 16:50</td>\n",
       "      <td>5.5</td>\n",
       "      <td>51000</td>\n",
       "      <td>65000</td>\n",
       "      <td></td>\n",
       "      <td>Jim Payne</td>\n",
       "      <td>Morgan Sandercock</td>\n",
       "      <td>http://localhost/data/Flights/0065/Flt0065AC.xlsx</td>\n",
       "      <td>http://localhost/data/Flights/0065/Flt0065ADP.zip</td>\n",
       "      <td>http://localhost/data/Flights/0065/Flt0065IMU.zip</td>\n",
       "      <td>http://localhost/data/Flights/0065/Flt0065.kml</td>\n",
       "      <td>http://localhost/data/Flights/0065/Flt0065UV.xlsx</td>\n",
       "    </tr>\n",
       "  </tbody>\n",
       "</table>\n",
       "<p>65 rows × 20 columns</p>\n",
       "</div>"
      ],
      "text/plain": [
       "   post_type   post_title         post_content         post_excerpt  \\\n",
       "0     flight  Flight 0001         First Flight         First Flight   \n",
       "1     flight  Flight 0002       flight testing       flight testing   \n",
       "2     flight  Flight 0003                                             \n",
       "3     flight  Flight 0004                                             \n",
       "4     flight  Flight 0005                                             \n",
       "..       ...          ...                  ...                  ...   \n",
       "60    flight  Flight 0061                                             \n",
       "61    flight  Flight 0062                                             \n",
       "62    flight  Flight 0063    tow height record    tow height record   \n",
       "63    flight  Flight 0064                                             \n",
       "64    flight  Flight 0065  Last flight of 2019  Last flight of 2019   \n",
       "\n",
       "    flight_number takeoff_airport landing_airport takeoff_datetime_local  \\\n",
       "0               1            KRDM            KRDM       2015-09-23 08:18   \n",
       "1               2            KMEV            KMEV       2016-01-15 13:07   \n",
       "2               3            KMEV            KMEV       2016-01-15 14:20   \n",
       "3               4            KMEV            KMEV       2016-01-27 14:23   \n",
       "4               5            KMEV            KMEV       2016-01-27 15:25   \n",
       "..            ...             ...             ...                    ...   \n",
       "60             61            SAWC            SAWC       2019-08-31 10:37   \n",
       "61             62            SAWC            SAWC       2019-09-06 13:33   \n",
       "62             63            SAWC            SAWC       2019-09-11 12:35   \n",
       "63             64            SAWC            SAWC       2019-09-14 09:13   \n",
       "64             65            SAWC            SAWC       2019-09-17 11:20   \n",
       "\n",
       "   landing_datetime_local  flight_duration_hours  release_altitude_feet  \\\n",
       "0        2015-09-23 08:51                    0.6                   8100   \n",
       "1        2016-01-15 13:50                    0.7                  10800   \n",
       "2        2016-01-15 15:02                    0.7                  10700   \n",
       "3        2016-01-27 14:45                    0.4                   7600   \n",
       "4        2016-01-27 15:55                    0.5                   8700   \n",
       "..                    ...                    ...                    ...   \n",
       "60       2019-08-31 14:30                    3.9                  46600   \n",
       "61       2019-09-06 16:36                    3.1                  42000   \n",
       "62       2019-09-11 18:11                    5.6                  47100   \n",
       "63       2019-09-14 12:30                    3.3                  45100   \n",
       "64       2019-09-17 16:50                    5.5                  51000   \n",
       "\n",
       "    maximum_altitude_feet maximum_gps_altitude_feet pilot_front  \\\n",
       "0                    8100                             Jim Payne   \n",
       "1                   10800                             Jim Payne   \n",
       "2                   10700                             Jim Payne   \n",
       "3                    7600                             Jim Payne   \n",
       "4                    8700                             Jim Payne   \n",
       "..                    ...                       ...         ...   \n",
       "60                  56300                             Jim Payne   \n",
       "61                  42300                             Jim Payne   \n",
       "62                  50600                             Jim Payne   \n",
       "63                  49200                             Jim Payne   \n",
       "64                  65000                             Jim Payne   \n",
       "\n",
       "           pilot_rear                                            data_ac  \\\n",
       "0   Morgan Sandercock                                                      \n",
       "1    Miguel Iturmendi                                                      \n",
       "2    Miguel Iturmendi                                                      \n",
       "3                                                                          \n",
       "4                                                                          \n",
       "..                ...                                                ...   \n",
       "60   Miguel Iturmendi  http://localhost/data/Flights/0061/Flt0061AC.xlsb   \n",
       "61  Morgan Sandercock  http://localhost/data/Flights/0062/Flt0062AC.xlsb   \n",
       "62        Tim Gardner  http://localhost/data/Flights/0063/Flt0063AC.xlsb   \n",
       "63   Miguel Iturmendi  http://localhost/data/Flights/0064/Flt0064AC.xlsb   \n",
       "64  Morgan Sandercock  http://localhost/data/Flights/0065/Flt0065AC.xlsx   \n",
       "\n",
       "                                             data_adp  \\\n",
       "0                                                       \n",
       "1                                                       \n",
       "2                                                       \n",
       "3                                                       \n",
       "4                                                       \n",
       "..                                                ...   \n",
       "60  http://localhost/data/Flights/0061/Flt0061ADP.zip   \n",
       "61  http://localhost/data/Flights/0062/Flt0062ADP.zip   \n",
       "62  http://localhost/data/Flights/0063/Flt0063ADP.zip   \n",
       "63  http://localhost/data/Flights/0064/Flt0064ADP.zip   \n",
       "64  http://localhost/data/Flights/0065/Flt0065ADP.zip   \n",
       "\n",
       "                                             data_imu  \\\n",
       "0                                                       \n",
       "1                                                       \n",
       "2                                                       \n",
       "3                                                       \n",
       "4                                                       \n",
       "..                                                ...   \n",
       "60  http://localhost/data/Flights/0061/Flt0061IMU.zip   \n",
       "61  http://localhost/data/Flights/0062/Flt0062IMU.zip   \n",
       "62  http://localhost/data/Flights/0063/Flt0063IMU.zip   \n",
       "63  http://localhost/data/Flights/0064/Flt0064IMU.zip   \n",
       "64  http://localhost/data/Flights/0065/Flt0065IMU.zip   \n",
       "\n",
       "                                          data_kml  \\\n",
       "0                                                    \n",
       "1                                                    \n",
       "2                                                    \n",
       "3                                                    \n",
       "4                                                    \n",
       "..                                             ...   \n",
       "60  http://localhost/data/Flights/0061/Flt0061.kml   \n",
       "61  http://localhost/data/Flights/0062/Flt0062.kml   \n",
       "62  http://localhost/data/Flights/0063/Flt0063.kml   \n",
       "63  http://localhost/data/Flights/0064/Flt0064.kml   \n",
       "64  http://localhost/data/Flights/0065/Flt0065.kml   \n",
       "\n",
       "                                              data_uv  \n",
       "0                                                      \n",
       "1                                                      \n",
       "2                                                      \n",
       "3                                                      \n",
       "4                                                      \n",
       "..                                                ...  \n",
       "60  http://localhost/data/Flights/0061/Flt0061UV.xlsx  \n",
       "61  http://localhost/data/Flights/0062/Flt0062UV.xlsx  \n",
       "62  http://localhost/data/Flights/0063/Flt0063UV.xlsb  \n",
       "63  http://localhost/data/Flights/0064/Flt0064UV.xlsb  \n",
       "64  http://localhost/data/Flights/0065/Flt0065UV.xlsx  \n",
       "\n",
       "[65 rows x 20 columns]"
      ]
     },
     "execution_count": 21,
     "metadata": {},
     "output_type": "execute_result"
    }
   ],
   "source": [
    "# Walk the Flights dir, looking for data files, and put them in the CSV\n",
    "def stuff_file_paths(df=None, flight_dirs=None, host=\"http://localhost\", verbose=1):\n",
    "    for flt in flight_dirs:\n",
    "        files_full = pu.get_files(flt)\n",
    "        files = [f[f.rfind('/')+1:] for f in files_full]\n",
    "        if files == []:\n",
    "            continue\n",
    "        \n",
    "        nr = int(flt[-4:])\n",
    "        if verbose:\n",
    "            print(f\"#{nr}\\t{flt}\\t{files}\")\n",
    "\n",
    "        for file in files_full:\n",
    "            file = f'{host}/{file}'\n",
    "            base = file[:file.rfind('.')]\n",
    "            suffix = file[file.rfind('.')+1:]\n",
    "            idx = nr - 1\n",
    "            #if verbose:\n",
    "            #    print(f\"base = {base}   suffix = {suffix}\")\n",
    "            if suffix == 'kml':\n",
    "                df.loc[idx, 'data_kml'] = file\n",
    "                if verbose:\n",
    "                    print(f\"KML = {file}\")\n",
    "            #print(f\"base[-2:]={base[-2:]}\")                    \n",
    "            for kind in ['AC', 'ADP', 'IMU', 'UV']:\n",
    "                if base[-len(kind):] == kind:\n",
    "                    df.loc[idx, f'data_{kind.lower()}'] = file\n",
    "                    if verbose:\n",
    "                        print(f\"{kind} = {file}\")                \n",
    "    return df\n",
    "\n",
    "stuff_file_paths(df=csv, flight_dirs=flts)"
   ]
  },
  {
   "cell_type": "markdown",
   "id": "physical-routine",
   "metadata": {},
   "source": [
    "# Sanity Check: Output"
   ]
  },
  {
   "cell_type": "code",
   "execution_count": 22,
   "id": "valued-negotiation",
   "metadata": {},
   "outputs": [
    {
     "data": {
      "text/plain": [
       "post_type                               flight\n",
       "post_title                         Flight 0001\n",
       "post_content                      First Flight\n",
       "post_excerpt                      First Flight\n",
       "flight_number                                1\n",
       "takeoff_airport                           KRDM\n",
       "landing_airport                           KRDM\n",
       "takeoff_datetime_local        2015-09-23 08:18\n",
       "landing_datetime_local        2015-09-23 08:51\n",
       "flight_duration_hours                      0.6\n",
       "release_altitude_feet                     8100\n",
       "maximum_altitude_feet                     8100\n",
       "maximum_gps_altitude_feet                     \n",
       "pilot_front                          Jim Payne\n",
       "pilot_rear                   Morgan Sandercock\n",
       "data_ac                                       \n",
       "data_adp                                      \n",
       "data_imu                                      \n",
       "data_kml                                      \n",
       "data_uv                                       \n",
       "Name: 0, dtype: object"
      ]
     },
     "execution_count": 22,
     "metadata": {},
     "output_type": "execute_result"
    }
   ],
   "source": [
    "csv.iloc[0]"
   ]
  },
  {
   "cell_type": "code",
   "execution_count": 23,
   "id": "innocent-relation",
   "metadata": {},
   "outputs": [
    {
     "data": {
      "text/plain": [
       "post_type                                                               flight\n",
       "post_title                                                         Flight 0065\n",
       "post_content                                               Last flight of 2019\n",
       "post_excerpt                                               Last flight of 2019\n",
       "flight_number                                                               65\n",
       "takeoff_airport                                                           SAWC\n",
       "landing_airport                                                           SAWC\n",
       "takeoff_datetime_local                                        2019-09-17 11:20\n",
       "landing_datetime_local                                        2019-09-17 16:50\n",
       "flight_duration_hours                                                      5.5\n",
       "release_altitude_feet                                                    51000\n",
       "maximum_altitude_feet                                                    65000\n",
       "maximum_gps_altitude_feet                                                     \n",
       "pilot_front                                                          Jim Payne\n",
       "pilot_rear                                                   Morgan Sandercock\n",
       "data_ac                      http://localhost/data/Flights/0065/Flt0065AC.xlsx\n",
       "data_adp                     http://localhost/data/Flights/0065/Flt0065ADP.zip\n",
       "data_imu                     http://localhost/data/Flights/0065/Flt0065IMU.zip\n",
       "data_kml                        http://localhost/data/Flights/0065/Flt0065.kml\n",
       "data_uv                      http://localhost/data/Flights/0065/Flt0065UV.xlsx\n",
       "Name: 64, dtype: object"
      ]
     },
     "execution_count": 23,
     "metadata": {},
     "output_type": "execute_result"
    }
   ],
   "source": [
    "csv.iloc[64]"
   ]
  },
  {
   "cell_type": "code",
   "execution_count": 24,
   "id": "manual-excess",
   "metadata": {},
   "outputs": [
    {
     "data": {
      "text/plain": [
       "Index(['post_type', 'post_title', 'post_content', 'post_excerpt',\n",
       "       'flight_number', 'takeoff_airport', 'landing_airport',\n",
       "       'takeoff_datetime_local', 'landing_datetime_local',\n",
       "       'flight_duration_hours', 'release_altitude_feet',\n",
       "       'maximum_altitude_feet', 'maximum_gps_altitude_feet', 'pilot_front',\n",
       "       'pilot_rear', 'data_ac', 'data_adp', 'data_imu', 'data_kml', 'data_uv'],\n",
       "      dtype='object')"
      ]
     },
     "execution_count": 24,
     "metadata": {},
     "output_type": "execute_result"
    }
   ],
   "source": [
    "csv.columns"
   ]
  },
  {
   "cell_type": "markdown",
   "id": "phantom-original",
   "metadata": {},
   "source": [
    "## Write Generic CSV\n",
    "This CSV is not Toolset-specific (see below)"
   ]
  },
  {
   "cell_type": "code",
   "execution_count": 25,
   "id": "corporate-given",
   "metadata": {},
   "outputs": [
    {
     "name": "stdout",
     "output_type": "stream",
     "text": [
      "generic CSV saved!\n"
     ]
    }
   ],
   "source": [
    "# Generic CSV\n",
    "\n",
    "csv.to_csv(f\"{data_root}/flights.csv\", index=False)\n",
    "print(\"generic CSV saved!\")"
   ]
  },
  {
   "cell_type": "markdown",
   "id": "spread-diamond",
   "metadata": {},
   "source": [
    "# CSV for Toolset\n",
    "For import in the Toolset plugin Types module \n",
    "- Toolset requires custom post fields prepended with `wpcf-` (the WPCF plugin was Toolset's first?)\n",
    "- Date/time fields in POSIX timestamp format (float) **IMPORTANT: WP/Toolset use of Toolset dates is buggy!!!  After wrestling with it for over a day, punted and went with good ol' strings.  Sigh**"
   ]
  },
  {
   "cell_type": "code",
   "execution_count": 26,
   "id": "accredited-horizon",
   "metadata": {},
   "outputs": [],
   "source": [
    "df = csv.copy()"
   ]
  },
  {
   "cell_type": "code",
   "execution_count": 27,
   "id": "outdoor-mistake",
   "metadata": {},
   "outputs": [
    {
     "data": {
      "text/plain": [
       "Index(['post_type', 'post_title', 'post_content', 'post_excerpt',\n",
       "       'flight_number', 'takeoff_airport', 'landing_airport',\n",
       "       'takeoff_datetime_local', 'landing_datetime_local',\n",
       "       'flight_duration_hours', 'release_altitude_feet',\n",
       "       'maximum_altitude_feet', 'maximum_gps_altitude_feet', 'pilot_front',\n",
       "       'pilot_rear', 'data_ac', 'data_adp', 'data_imu', 'data_kml', 'data_uv'],\n",
       "      dtype='object')"
      ]
     },
     "execution_count": 27,
     "metadata": {},
     "output_type": "execute_result"
    }
   ],
   "source": [
    "df.columns"
   ]
  },
  {
   "cell_type": "markdown",
   "id": "processed-circuit",
   "metadata": {},
   "source": [
    "## Convert date/time to POSIX timestamp format\n",
    "Well, it's unfortunate that Toolset uses POSIX timestamp objects, as you can't just eyeball them.  \n",
    "\n",
    "Python has very powerful datetime manipulation, used here for converting a string format to timestmp.  It is necessary to account for timezone in how you use Python datetime.  Best practices call for date and time to be stored as Zulu time (UTC) and convert to local time when needed to display.  However, the Perlan times were given to me as local time, and the timezones are not the same for all airports we've used.  Though it might be possible to store as UTC in WordPress and convert to what the local time was at the time of the flight, this seems like way more effort than it is worth, especially with daylight saving time!  And given WordPress, I'm not certain that's even possible in the Toolset Types module.  Thus I force the creation of datetime objects with zero offset from UTC, done here with the `%z` in the format string, and \"+0000\" in the input string, effectively using them as \"naive\" datetime objects (tho not exactly - it's complicated).\n",
    "\n",
    " **IMPORTANT: WP/Toolset use of Toolset dates is buggy!!!  After wrestling with it for over a day, punted and went with good ol' strings. I left the code here, in case we want to revisit later.**"
   ]
  },
  {
   "cell_type": "code",
   "execution_count": 28,
   "id": "nuclear-transsexual",
   "metadata": {},
   "outputs": [
    {
     "name": "stdout",
     "output_type": "stream",
     "text": [
      "NOTICE that we are NOT using proper datetime objects, as the Toolset datetime objects are buggy. So we use strings\n"
     ]
    }
   ],
   "source": [
    "toolset_datetime_bugs_fixed = False\n",
    "if toolset_datetime_bugs_fixed:\n",
    "    df[f'takeoff_datetime_local_YmdHM'] = df.apply(lambda row: f\"{row.takeoff_date_local} {row.takeoff_time_local_HM}\", axis=1)\n",
    "    df['takeoff_datetime_local'] = df['takeoff_datetime_local_YmdHM'].apply(lambda x: dt.strptime(x + \"+0000\", \"%Y-%m-%d %H:%M%z\").timestamp()).astype(int)\n",
    "\n",
    "    df[f'landing_datetime_local_YmdHM'] = df.apply(lambda row: f\"{row.landing_date_local} {row.landing_time_local_HM}\", axis=1)\n",
    "    df['landing_datetime_local'] = df['landing_datetime_local_YmdHM'].apply(lambda x: dt.strptime(x + \"+0000\", \"%Y-%m-%d %H:%M%z\").timestamp()).astype(int)\n",
    "    \n",
    "else:\n",
    "    print(\"NOTICE that we are NOT using proper datetime objects, as the Toolset datetime objects are buggy. So we use strings\")"
   ]
  },
  {
   "cell_type": "code",
   "execution_count": 29,
   "id": "ready-specific",
   "metadata": {},
   "outputs": [
    {
     "data": {
      "text/plain": [
       "post_type                                                               flight\n",
       "post_title                                                         Flight 0065\n",
       "post_content                                               Last flight of 2019\n",
       "post_excerpt                                               Last flight of 2019\n",
       "flight_number                                                               65\n",
       "takeoff_airport                                                           SAWC\n",
       "landing_airport                                                           SAWC\n",
       "takeoff_datetime_local                                        2019-09-17 11:20\n",
       "landing_datetime_local                                        2019-09-17 16:50\n",
       "flight_duration_hours                                                      5.5\n",
       "release_altitude_feet                                                    51000\n",
       "maximum_altitude_feet                                                    65000\n",
       "maximum_gps_altitude_feet                                                     \n",
       "pilot_front                                                          Jim Payne\n",
       "pilot_rear                                                   Morgan Sandercock\n",
       "data_ac                      http://localhost/data/Flights/0065/Flt0065AC.xlsx\n",
       "data_adp                     http://localhost/data/Flights/0065/Flt0065ADP.zip\n",
       "data_imu                     http://localhost/data/Flights/0065/Flt0065IMU.zip\n",
       "data_kml                        http://localhost/data/Flights/0065/Flt0065.kml\n",
       "data_uv                      http://localhost/data/Flights/0065/Flt0065UV.xlsx\n",
       "Name: 64, dtype: object"
      ]
     },
     "execution_count": 29,
     "metadata": {},
     "output_type": "execute_result"
    }
   ],
   "source": [
    "df.iloc[64]"
   ]
  },
  {
   "cell_type": "markdown",
   "id": "exclusive-charles",
   "metadata": {},
   "source": [
    "## Stringify Altitudes\n",
    "- add commas\n",
    "- cast as string so the entries without GPS altitude are empty, and the ones with GPS altitude don't display as floats. "
   ]
  },
  {
   "cell_type": "code",
   "execution_count": 30,
   "id": "residential-anthony",
   "metadata": {},
   "outputs": [],
   "source": [
    "for col in ['release_altitude_feet', 'maximum_altitude_feet', 'maximum_gps_altitude_feet']:\n",
    "    #print(f\"{col} type before cast: {df[col].dtype}\")\n",
    "    df[col] = df[col].astype(str)\n",
    "    #print(f\"{col} type after cast: {df[col].dtype}\")\n",
    "    df[col] = df[col].apply(lambda s: f\"{int(float(s)):,}\" if len(s) else \"\") # yep: cast to float, then int, then comma-sep str"
   ]
  },
  {
   "cell_type": "markdown",
   "id": "accredited-barrier",
   "metadata": {},
   "source": [
    "## Prepend 'wpcf-'"
   ]
  },
  {
   "cell_type": "code",
   "execution_count": 31,
   "id": "floating-czech",
   "metadata": {},
   "outputs": [],
   "source": [
    "# prepend 'wpcf-'\n",
    "for col in df.columns:\n",
    "    if col[:len('post_')] == 'post_':\n",
    "        continue\n",
    "    else:\n",
    "        df = df.rename(columns={col : f\"wpcf-{col}\"})    # note the dash in 'wpcf-'"
   ]
  },
  {
   "cell_type": "code",
   "execution_count": 32,
   "id": "sunrise-camera",
   "metadata": {},
   "outputs": [
    {
     "data": {
      "text/plain": [
       "Index(['post_type', 'post_title', 'post_content', 'post_excerpt',\n",
       "       'wpcf-flight_number', 'wpcf-takeoff_airport', 'wpcf-landing_airport',\n",
       "       'wpcf-takeoff_datetime_local', 'wpcf-landing_datetime_local',\n",
       "       'wpcf-flight_duration_hours', 'wpcf-release_altitude_feet',\n",
       "       'wpcf-maximum_altitude_feet', 'wpcf-maximum_gps_altitude_feet',\n",
       "       'wpcf-pilot_front', 'wpcf-pilot_rear', 'wpcf-data_ac', 'wpcf-data_adp',\n",
       "       'wpcf-data_imu', 'wpcf-data_kml', 'wpcf-data_uv'],\n",
       "      dtype='object')"
      ]
     },
     "execution_count": 32,
     "metadata": {},
     "output_type": "execute_result"
    }
   ],
   "source": [
    "df.columns"
   ]
  },
  {
   "cell_type": "markdown",
   "id": "understood-construction",
   "metadata": {},
   "source": [
    "## Make all column names lower-case\n",
    "Toolset requires this, apparently."
   ]
  },
  {
   "cell_type": "code",
   "execution_count": 33,
   "id": "wrapped-saver",
   "metadata": {},
   "outputs": [],
   "source": [
    "for col in df.columns:\n",
    "    df_lower = df.rename(columns={col : col.lower()})"
   ]
  },
  {
   "cell_type": "code",
   "execution_count": 36,
   "id": "continent-uruguay",
   "metadata": {},
   "outputs": [
    {
     "data": {
      "text/plain": [
       "post_type                                                                    flight\n",
       "post_title                                                              Flight 0061\n",
       "post_content                                                                       \n",
       "post_excerpt                                                                       \n",
       "wpcf-flight_number                                                               61\n",
       "wpcf-takeoff_airport                                                           SAWC\n",
       "wpcf-landing_airport                                                           SAWC\n",
       "wpcf-takeoff_datetime_local                                        2019-08-31 10:37\n",
       "wpcf-landing_datetime_local                                        2019-08-31 14:30\n",
       "wpcf-flight_duration_hours                                                      3.9\n",
       "wpcf-release_altitude_feet                                                   46,600\n",
       "wpcf-maximum_altitude_feet                                                   56,300\n",
       "wpcf-maximum_gps_altitude_feet                                                     \n",
       "wpcf-pilot_front                                                          Jim Payne\n",
       "wpcf-pilot_rear                                                    Miguel Iturmendi\n",
       "wpcf-data_ac                      http://localhost/data/Flights/0061/Flt0061AC.xlsb\n",
       "wpcf-data_adp                     http://localhost/data/Flights/0061/Flt0061ADP.zip\n",
       "wpcf-data_imu                     http://localhost/data/Flights/0061/Flt0061IMU.zip\n",
       "wpcf-data_kml                        http://localhost/data/Flights/0061/Flt0061.kml\n",
       "wpcf-data_uv                      http://localhost/data/Flights/0061/Flt0061UV.xlsx\n",
       "Name: 60, dtype: object"
      ]
     },
     "execution_count": 36,
     "metadata": {},
     "output_type": "execute_result"
    }
   ],
   "source": [
    "df_lower.iloc[60]"
   ]
  },
  {
   "cell_type": "markdown",
   "id": "removed-isaac",
   "metadata": {},
   "source": [
    "## Save Toolset-format CSV"
   ]
  },
  {
   "cell_type": "code",
   "execution_count": 35,
   "id": "democratic-theology",
   "metadata": {},
   "outputs": [
    {
     "name": "stdout",
     "output_type": "stream",
     "text": [
      "Toolset CSV saved!\n"
     ]
    }
   ],
   "source": [
    "# Toolset-specific CSV\n",
    "\n",
    "df_lower.to_csv(f\"{data_root}/flights-toolset.csv\", index=False)\n",
    "print(\"Toolset CSV saved!\")"
   ]
  }
 ],
 "metadata": {
  "kernelspec": {
   "display_name": "Python 3",
   "language": "python",
   "name": "python3"
  },
  "language_info": {
   "codemirror_mode": {
    "name": "ipython",
    "version": 3
   },
   "file_extension": ".py",
   "mimetype": "text/x-python",
   "name": "python",
   "nbconvert_exporter": "python",
   "pygments_lexer": "ipython3",
   "version": "3.8.8"
  }
 },
 "nbformat": 4,
 "nbformat_minor": 5
}
